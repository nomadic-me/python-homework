{
 "cells": [
  {
   "cell_type": "code",
   "execution_count": 138,
   "id": "fa4707ed-5ca2-4442-8d25-5e9b8c0df79f",
   "metadata": {},
   "outputs": [],
   "source": [
    "#main.ipynb for PyBank\n",
    "\n",
    "#import the csv library\n",
    "import csv"
   ]
  },
  {
   "cell_type": "code",
   "execution_count": 139,
   "id": "a85d403d-d1d2-4ec5-87aa-b484edc90932",
   "metadata": {},
   "outputs": [],
   "source": [
    "# code block for all Variables\n",
    "\n",
    "#Toggle this to \"False\" to have a clean execution\n",
    "debugging_togggle = False\n",
    "\n",
    "# initiate line counter variable\n",
    "line_count = 0\n",
    "    \n",
    "#initiate a nested list object to store the CSV file contents\n",
    "list_budgetcontent =[]\n",
    "list_budgetindividualrow = []\n",
    "list_budget_profit_and_loss = []\n",
    "\n"
   ]
  },
  {
   "cell_type": "code",
   "execution_count": 140,
   "id": "7b13de37-cea4-4642-b9ff-c33142c7b967",
   "metadata": {},
   "outputs": [],
   "source": [
    "# code block for all Functions\n",
    "# define a \"debugging\" function\n",
    "\n",
    "\n",
    "# a function to print variables for debugging    \n",
    "def func_debug():\n",
    "    if (debugging_togggle):\n",
    "        print(f'\\n . \\n . \\n . \\n . \\n . \\n . \\n . \\n . \\n .  ========= Debugging Information ========== \\n . \\n . \\n . \\n . \\n . \\n . \\n . \\n . \\n . ')\n",
    "        print(f'\\n ========= Printing variable \"line_count\" ========= \\n {line_count} \\n')\n",
    "        print(f'\\n ========= Printing variable \"list_budgetcontent\" ========= \\n {list_budgetcontent} \\n')\n",
    "    else:\n",
    "        print(\"Note: Debugging is turned-off; Set variable 'debugging_togggle' = True for tons of debugging info\")\n",
    "\n",
    "        \n",
    "# a function to calculate the total amount of profit/losses over entire period\n",
    "def func_totalprofit_loss():\n",
    "    totalprofit_loss = 0\n",
    "    for x in list_budgetcontent:\n",
    "        totalprofit_loss = totalprofit_loss + x[1]\n",
    "        if (debugging_togggle):\n",
    "                print(f'\\t Printing variable {x[1]}')\n",
    "    return totalprofit_loss\n",
    "\n",
    "# a function to calculate the average of changes to profit/losses over entire period\n",
    "def funct_average_change_profit_loss():\n",
    "    new_list = []\n",
    "    for x in range(1, len(list_budget_profit_and_loss)):\n",
    "        previous_profit = list_budget_profit_and_loss[x-1]\n",
    "        current_profit = list_budget_profit_and_loss[x]\n",
    "        change = (current_profit - previous_profit) \n",
    "        new_list.append(change)\n",
    "    return round(sum(new_list) / len(new_list),2)\n",
    "\n",
    "\n",
    "# a function to print the final results\n",
    "def func_final_resulting_analysis():\n",
    "    print(f\"The total number of months used for in the Dataset is {len(budgetcontnent)}\")\n",
    "    print(f\"The net total amount of Profit/Losses over the entire period {func_totalprofit_loss():,}\")\n",
    "    print(f\"The average of the changes in Profit/Losses over the entire period {funct_average_change_profit_loss():,}\")\n",
    "\n",
    "    \n"
   ]
  },
  {
   "cell_type": "code",
   "execution_count": 141,
   "id": "f040fbd4-40e8-4540-a214-fa2899c3ecc6",
   "metadata": {},
   "outputs": [],
   "source": [
    "\n",
    "\n",
    "\n",
    "#open the csv file\n",
    "with open('Resources/budget_data.csv') as csv_file:\n",
    "    csv_reader = csv.reader(csv_file, delimiter=',')    \n",
    "    for row in csv_reader:\n",
    "        #Print First Row as Header\n",
    "        if line_count == 0:\n",
    "            if (debugging_togggle):\n",
    "                print(f'Column names are {\", \".join(row)}\\n\\n')\n",
    "            line_count += 1\n",
    "        #treat all remaining Rows as \"Data\"\n",
    "        else:\n",
    "            if (debugging_togggle):\n",
    "                print(f'\\tDate: {row[0]} \\t Profit/Losses {row[1]}')\n",
    "            list_budgetindividualrow.append(row[0])\n",
    "            #typecasting the string number representing profit/loss into string\n",
    "            list_budgetindividualrow.append(int(row[1]))\n",
    "            #this list is used to calculate the average\n",
    "            list_budget_profit_and_loss.append(int(row[1]))\n",
    "            list_budgetcontent.append(list_budgetindividualrow)\n",
    "            # reset list_budgetindividualrow list\n",
    "            list_budgetindividualrow = []\n",
    "            line_count += 1\n",
    "    \n"
   ]
  },
  {
   "cell_type": "code",
   "execution_count": 142,
   "id": "76694d95-0342-4e44-8db6-b8ab5dc98a4c",
   "metadata": {},
   "outputs": [
    {
     "name": "stdout",
     "output_type": "stream",
     "text": [
      "Note: Debugging is turned-off; Set variable 'debugging_togggle' = True for tons of debugging info\n",
      "The total number of months used for in the Dataset is 86\n",
      "The net total amount of Profit/Losses over the entire period 38,382,578\n",
      "The average of the changes in Profit/Losses over the entire period -2,315\n"
     ]
    }
   ],
   "source": [
    "func_debug()\n",
    "func_final_resulting_analysis()"
   ]
  },
  {
   "cell_type": "code",
   "execution_count": null,
   "id": "d4a24146-a278-4bac-b01b-1a7ecdb202a3",
   "metadata": {},
   "outputs": [],
   "source": []
  },
  {
   "cell_type": "code",
   "execution_count": null,
   "id": "48efcb51-e864-4fac-90de-7531697831ed",
   "metadata": {},
   "outputs": [],
   "source": []
  },
  {
   "cell_type": "code",
   "execution_count": null,
   "id": "3b183ad5-00b0-40ac-a516-e3e39508e708",
   "metadata": {},
   "outputs": [],
   "source": []
  }
 ],
 "metadata": {
  "kernelspec": {
   "display_name": "Python 3 (ipykernel)",
   "language": "python",
   "name": "python3"
  },
  "language_info": {
   "codemirror_mode": {
    "name": "ipython",
    "version": 3
   },
   "file_extension": ".py",
   "mimetype": "text/x-python",
   "name": "python",
   "nbconvert_exporter": "python",
   "pygments_lexer": "ipython3",
   "version": "3.9.7"
  }
 },
 "nbformat": 4,
 "nbformat_minor": 5
}
