{
 "cells": [
  {
   "cell_type": "code",
   "execution_count": 140,
   "id": "8bc82f59-50da-4d87-9166-a1dd9ce52de5",
   "metadata": {},
   "outputs": [
    {
     "data": {
      "text/plain": [
       "'PyRamen Homework Starter.'"
      ]
     },
     "execution_count": 140,
     "metadata": {},
     "output_type": "execute_result"
    }
   ],
   "source": [
    "#main.ipynb for PyRamen\n",
    "\n",
    "# -*- coding: UTF-8 -*-\n",
    "\"\"\"PyRamen Homework Starter.\"\"\""
   ]
  },
  {
   "cell_type": "code",
   "execution_count": 141,
   "id": "f742e104-5a98-4303-b3c0-5421fd58c7b5",
   "metadata": {},
   "outputs": [],
   "source": [
    "# @TODO: Import libraries\n",
    "import csv\n",
    "from pathlib import Path"
   ]
  },
  {
   "cell_type": "code",
   "execution_count": 142,
   "id": "90dfeb6a-fb71-47cc-9465-ecac934b213c",
   "metadata": {},
   "outputs": [],
   "source": [
    "# @TODO: Set file paths for menu_data.csv and sales_data.csv\n",
    "menu_filepath = Path('Resources/menu_data.csv')\n",
    "sales_filepath = Path('Resources/sales_data.csv')"
   ]
  },
  {
   "cell_type": "code",
   "execution_count": 143,
   "id": "5ecb4e75-5d04-4365-95de-12d111d8910f",
   "metadata": {},
   "outputs": [],
   "source": [
    "#defining debugging_togggle to debug\n",
    "debugging_togggle = True\n",
    "\n",
    "# define a function to read the csv file and return the list\n",
    "def func_opencsv_return_contents_as_list(filepath):\n",
    "    # initiate line counter variable\n",
    "    line_count = 0\n",
    "    # intiate Lists\n",
    "    list_individualrow = []\n",
    "    list_return = []\n",
    "    \n",
    "    with open(filepath) as csv_file:\n",
    "        csv_reader = csv.reader(csv_file, delimiter=',')    \n",
    "        for row in csv_reader:\n",
    "            #Print First Row as Header\n",
    "            if line_count == 0:\n",
    "                if (debugging_togggle):\n",
    "                    print(f'############## Debugging Data ------- Column names are {\", \".join(row)}')\n",
    "                line_count += 1\n",
    "            #treat all remaining Rows as \"Data\"\n",
    "            else:\n",
    "                #if (debugging_togggle):\n",
    "                   # print(f'\\tColumn 1: {row[0]} \\t Column 2: {row[1]} \\t Column 3: {row[2]} \\t Column 4: {row[3]} \\t Column 5: {row[4]}')\n",
    "                #for x in range(0, len(row)):\n",
    "                    #list_individualrow.append(row[x])\n",
    "                list_return.append(row)\n",
    "                # reset list_budgetindividualrow list\n",
    "                line_count += 1\n",
    "    if (debugging_togggle):\n",
    "        print(f\"############## Debugging Data ------- Lenght of List is {len(list_return)}\")\n",
    "    return list_return\n",
    "\n"
   ]
  },
  {
   "cell_type": "code",
   "execution_count": 144,
   "id": "cba8b3e0-69b6-4573-a139-c249a6582bce",
   "metadata": {},
   "outputs": [],
   "source": [
    "# @TODO: Initialize list objects to hold our menu and sales data\n",
    "menu = []\n",
    "sales = []"
   ]
  },
  {
   "cell_type": "code",
   "execution_count": 145,
   "id": "0347d78b-618b-48b2-be83-139319a54d2e",
   "metadata": {},
   "outputs": [
    {
     "name": "stdout",
     "output_type": "stream",
     "text": [
      "############## Debugging Data ------- Column names are item, category, description, price, cost\n",
      "############## Debugging Data ------- Lenght of List is 32\n"
     ]
    }
   ],
   "source": [
    "# @TODO: Read in the menu data into the menu list\n",
    "\n",
    "menu = func_opencsv_return_contents_as_list(menu_filepath)\n"
   ]
  },
  {
   "cell_type": "code",
   "execution_count": 146,
   "id": "70774874-7542-4df0-ade9-8601abf6f79e",
   "metadata": {},
   "outputs": [
    {
     "name": "stdout",
     "output_type": "stream",
     "text": [
      "############## Debugging Data ------- Column names are Line_Item_ID, Date, Credit_Card_Number, Quantity, Menu_Item\n",
      "############## Debugging Data ------- Lenght of List is 74124\n"
     ]
    }
   ],
   "source": [
    "# @TODO: Read in the sales data into the sales list\n",
    "\n",
    "sales = func_opencsv_return_contents_as_list(sales_filepath)"
   ]
  },
  {
   "cell_type": "code",
   "execution_count": 147,
   "id": "25c3cabd-35d2-42da-be0b-cb954434e51b",
   "metadata": {},
   "outputs": [],
   "source": [
    "# @TODO: Initialize dict object to hold our key-value pairs of items and metrics\n",
    "report = {}"
   ]
  },
  {
   "cell_type": "code",
   "execution_count": 148,
   "id": "475d620d-3ec4-4ff4-9193-08ab474221f3",
   "metadata": {},
   "outputs": [
    {
     "name": "stdout",
     "output_type": "stream",
     "text": [
      "############## Debugging Data ------- Lenght of sales_data List is 74124\n"
     ]
    }
   ],
   "source": [
    "# Initialize a row counter variable\n",
    "row_count = 0\n",
    "\n",
    "# Then, loop through every row in the sales list object.\n",
    "# For each row of the sales data, set the following columns of the sales data to their own variables:\n",
    "# Quantity\n",
    "# Menu_Item\n",
    "    \n",
    "# @TODO: Loop over every row in the sales list object\n",
    "    # Line_Item_ID,Date,Credit_Card_Number,Quantity,Menu_Item\n",
    "    # @TODO: Initialize sales data variables\n",
    "    \n",
    "\n",
    "#def funct_match_menu_item_return_quantity():\n",
    "    \n",
    "    \n",
    "sales_data = []\n",
    "for x in range(0, len(sales)):\n",
    "    temp_list = []\n",
    "    temp_list.append(int(sales[x][3]))\n",
    "    temp_list.append(sales[x][4])        \n",
    "    sales_data.append(temp_list)\n",
    "        \n",
    "    #list_individualrow.append(row[x])\n",
    "if (debugging_togggle):\n",
    "    print(f\"############## Debugging Data ------- Lenght of sales_data List is {len(sales_data)}\")\n",
    "    \n",
    "    "
   ]
  },
  {
   "cell_type": "code",
   "execution_count": 149,
   "id": "ea5af1cb-970c-4dc4-b699-474295d50cf7",
   "metadata": {},
   "outputs": [
    {
     "name": "stdout",
     "output_type": "stream",
     "text": [
      "############## Debugging Data ------- Lenght of Menu_data List is 32\n",
      "############## Debugging Data ------- Format of the Data is \tItem, \tPrice, \tCost \n",
      "############## Debugging Data ------- Menu_data is: \n",
      "\n",
      "[['edamame', 4.0, 1.0], ['house salad', 4.0, 2.0], ['cucumber sunomono salad', 5.0, 2.0], ['hiyashi wakame seaweed salad', 5.0, 2.0], ['agedashi tofu', 5.0, 2.0], ['hiyayakko tofu', 5.0, 2.0], ['pork floss bao', 4.0, 2.0], ['kakuni bao', 6.0, 3.0], ['edamame fried gyoza (vegan)', 6.0, 3.0], ['fried gyoza', 6.0, 6.0], ['takoyaki', 6.0, 3.0], ['rock shrimp tempura', 6.0, 3.0], ['soft-shell crab tempura', 6.0, 3.0], ['ebi katsu shrimp bao', 6.0, 3.0], ['nagomi shoyu', 11.0, 5.0], ['shio ramen', 11.0, 5.0], ['spicy miso ramen', 12.0, 5.0], ['vegetarian spicy miso', 12.0, 5.0], ['miso crab ramen', 12.0, 6.0], ['soft-shell miso crab ramen', 14.0, 7.0], ['tori paitan ramen', 13.0, 6.0], ['tonkotsu ramen', 13.0, 6.0], ['burnt garlic tonkotsu ramen', 14.0, 6.0], ['vegetarian curry + king trumpet mushroom ramen', 13.0, 7.0], ['truffle butter ramen', 14.0, 7.0], ['green tea', 2.5, 1.0], ['coke', 2.0, 1.0], ['black sesame ice cream', 5.0, 2.0], ['matcha ice cream', 5.0, 2.0], ['mango mochi ice cream', 5.0, 2.0], ['strawberry mochi ice cream', 5.0, 2.0], ['black sesame creme brulee', 6.0, 3.0]]\n"
     ]
    }
   ],
   "source": [
    "  # @TODO: For every row in our sales data, loop over the menu records to determine a match\n",
    "\n",
    "\n",
    "        # Item,Category,Description,Price,Cost\n",
    "        # @TODO: Initialize menu data variables\n",
    "\n",
    "menu_data = []\n",
    "for x in range(0, len(menu)):\n",
    "    temp_list = []\n",
    "    temp_list.append(menu[x][0])\n",
    "    temp_list.append(float(menu[x][3]))\n",
    "    temp_list.append(float(menu[x][4]))        \n",
    "    menu_data.append(temp_list)\n",
    "        \n",
    "    #list_individualrow.append(row[x])\n",
    "if (debugging_togggle):\n",
    "    print(f\"############## Debugging Data ------- Lenght of Menu_data List is {len(menu_data)}\")\n",
    "    print(f\"############## Debugging Data ------- Format of the Data is \\tItem, \\tPrice, \\tCost \")\n",
    "    print(f\"############## Debugging Data ------- Menu_data is: \\n\\n{menu_data}\")\n",
    "\n"
   ]
  },
  {
   "cell_type": "code",
   "execution_count": 179,
   "id": "c888cb57-7d2f-4a8c-8974-edb07ca9f296",
   "metadata": {},
   "outputs": [],
   "source": [
    "\n",
    "    # @TODO:\n",
    "    # If the item value not in the report, add it as a new entry with initialized metrics\n",
    "    # Naming convention allows the keys to be ordered in logical fashion, count, revenue, cost, profit\n",
    "\n",
    "\n",
    "# Perform a quick check if the sales_item is already included in the report. \n",
    "# If not, initialize the key-value pairs for the particular sales_item in the report. \n",
    "# Then, set the sales_item as a new key to the report dictionary and the values as a \n",
    "# nested dictionary containing the following:\n",
    "\n",
    "#in is the intended way to test for the existence of a key in a dict.\n",
    "# d = {\"key1\": 10, \"key2\": 23}\n",
    "# if \"key1\" in d:\n",
    "  #  print(\"this will execute\")\n",
    "# if \"nonexistent key\" in d:\n",
    "#  print(\"this will not\")\n",
    "#if (debugging_togggle):\n",
    "        #print(f\"Lenght of sales_data [0][0] first element  is {sales_data[0][0]}\")\n",
    "        #print(f\"Lenght of sales_data [0][1] first element  is {sales_data[0][1]}\")\n",
    "        \n",
    "        \n",
    "        \n",
    "        \n",
    "#report[sales_item][\"01-count\"] += quantity\n",
    "#report[sales_item][\"02-revenue\"] += price * quantity\n",
    "#report[sales_item][\"03-cogs\"] += cost * quantity\n",
    "#report[sales_item][\"04-profit\"] += profit * quantity\n",
    "\n",
    "\n",
    "# Usning this trick to smarly check if an element exists in a nested list\n",
    "# x = [[1, 2, 3], [2, 3, 4]]\n",
    "# any(2 in sl for sl in x)\n",
    "# => True\n",
    "        \n",
    "#define a funtion that checks if a Menu Item exists for a given Sales Item\n",
    "def func_return_revenue_cogs_profit(sales_item, quantity):\n",
    "    #initialize a list to capture quantity, revenue, cogs and profit\n",
    "        temp = []\n",
    "        if any(sales_item in nestedlist for nestedlist in menu_data):\n",
    "            temp.append(quantity)                                          # first element is the quantity\n",
    "            for nestedlist2 in menu_data:\n",
    "                if nestedlist2[0] == sales_item:\n",
    "                    temp.append(nestedlist2[1]*quantity)                   #second element is revenue\n",
    "                    temp.append(nestedlist2[2]*quantity)                   #third element is cogs\n",
    "                    temp.append((nestedlist2[1]-nestedlist2[2])*quantity)  #fourth element is profit                    \n",
    "        return temp\n",
    "\n",
    "    \n",
    "        \n"
   ]
  },
  {
   "cell_type": "code",
   "execution_count": 180,
   "id": "cc8538e5-cf2e-44b1-bfa2-78d913679f3d",
   "metadata": {},
   "outputs": [
    {
     "data": {
      "text/plain": [
       "[6, 24.0, 6.0, 18.0]"
      ]
     },
     "execution_count": 180,
     "metadata": {},
     "output_type": "execute_result"
    }
   ],
   "source": [
    "func_return_revenue_cogs_profit(\"edamame\",6)"
   ]
  },
  {
   "cell_type": "code",
   "execution_count": 85,
   "id": "8650309f-8c8c-4038-8cfd-0671cfd09917",
   "metadata": {},
   "outputs": [
    {
     "name": "stdout",
     "output_type": "stream",
     "text": [
      "############## Debugging Data -------  spicy miso ramen  :  {'01-count': 9238, '02-revenue': 0, '03-cogs': 0, '04-profit': 0}\n",
      "############## Debugging Data -------  tori paitan ramen  :  {'01-count': 9156, '02-revenue': 0, '03-cogs': 0, '04-profit': 0}\n",
      "############## Debugging Data -------  truffle butter ramen  :  {'01-count': 8982, '02-revenue': 0, '03-cogs': 0, '04-profit': 0}\n",
      "############## Debugging Data -------  tonkotsu ramen  :  {'01-count': 9288, '02-revenue': 0, '03-cogs': 0, '04-profit': 0}\n",
      "############## Debugging Data -------  vegetarian spicy miso  :  {'01-count': 9216, '02-revenue': 0, '03-cogs': 0, '04-profit': 0}\n",
      "############## Debugging Data -------  shio ramen  :  {'01-count': 9180, '02-revenue': 0, '03-cogs': 0, '04-profit': 0}\n",
      "############## Debugging Data -------  miso crab ramen  :  {'01-count': 8890, '02-revenue': 0, '03-cogs': 0, '04-profit': 0}\n",
      "############## Debugging Data -------  nagomi shoyu  :  {'01-count': 9132, '02-revenue': 0, '03-cogs': 0, '04-profit': 0}\n",
      "############## Debugging Data -------  soft-shell miso crab ramen  :  {'01-count': 9130, '02-revenue': 0, '03-cogs': 0, '04-profit': 0}\n",
      "############## Debugging Data -------  burnt garlic tonkotsu ramen  :  {'01-count': 9070, '02-revenue': 0, '03-cogs': 0, '04-profit': 0}\n",
      "############## Debugging Data -------  vegetarian curry + king trumpet mushroom ramen  :  {'01-count': 8824, '02-revenue': 0, '03-cogs': 0, '04-profit': 0}\n"
     ]
    }
   ],
   "source": [
    "for x in range(0, len(sales_data)):\n",
    "        #Condition if sales_data exists in the report dictionary\n",
    "        if sales_data[x][1] in report:\n",
    "                report[sales_data[x][1]][\"01-count\"] = report[sales_data[x][1]][\"01-count\"] + sales_data[x][0]\n",
    "        else:\n",
    "                #We determined that the item in sales_data does not exist in the report disctionary\n",
    "                #initialize a new dictionary which can then be appended as a nested dictionary to the report dictionary\n",
    "                temp = {}\n",
    "                temp.update({\"01-count\": sales_data[x][0],\"02-revenue\": 0,\"03-cogs\": 0,\"04-profit\": 0})\n",
    "                #print(temp)\n",
    "                report.update({sales_data[x][1]: temp})\n",
    "                #if (debugging_togggle):                \n",
    "                    #for key, value in report.items():\n",
    "                        #print(key, ' : ', value)\n",
    "\n",
    "if (debugging_togggle):                \n",
    "        for key, value in report.items():\n",
    "            print(\"############## Debugging Data ------- \", key, ' : ', value)\n",
    "\n",
    "    "
   ]
  },
  {
   "cell_type": "code",
   "execution_count": null,
   "id": "889e440c-f51a-4af6-ab72-9b00a18e2bdb",
   "metadata": {},
   "outputs": [],
   "source": [
    "\n",
    "\n",
    "\n",
    "        # @TODO: Calculate profit of each item in the menu data\n",
    "\n",
    "\n",
    "        # @TODO: If the item value in our sales data is equal to the any of the items in the menu, then begin tracking metrics for that item\n",
    "\n",
    "\n",
    "            # @TODO: Print out matching menu data\n",
    "\n",
    "\n",
    "\n",
    "\n",
    "\n",
    "\n",
    "            # @TODO: Cumulatively add up the metrics for each item key\n",
    "\n",
    "\n",
    "\n",
    "\n",
    "\n",
    "        # @TODO: Else, the sales item does not equal any fo the item in the menu data, therefore no match\n",
    "\n",
    "\n",
    "\n",
    "    # @TODO: Increment the row counter by 1\n",
    "\n",
    "\n",
    "# @TODO: Print total number of records in sales data\n",
    "\n",
    "\n",
    "\n",
    "\n",
    "# @TODO: Write out report to a text file (won't appear on the command line output)\n",
    "\n"
   ]
  }
 ],
 "metadata": {
  "kernelspec": {
   "display_name": "Python 3 (ipykernel)",
   "language": "python",
   "name": "python3"
  },
  "language_info": {
   "codemirror_mode": {
    "name": "ipython",
    "version": 3
   },
   "file_extension": ".py",
   "mimetype": "text/x-python",
   "name": "python",
   "nbconvert_exporter": "python",
   "pygments_lexer": "ipython3",
   "version": "3.7.11"
  }
 },
 "nbformat": 4,
 "nbformat_minor": 5
}
