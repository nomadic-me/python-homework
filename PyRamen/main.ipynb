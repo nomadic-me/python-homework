{
 "cells": [
  {
   "cell_type": "code",
   "execution_count": 21,
   "id": "8bc82f59-50da-4d87-9166-a1dd9ce52de5",
   "metadata": {},
   "outputs": [
    {
     "data": {
      "text/plain": [
       "'PyRamen Homework Starter.'"
      ]
     },
     "execution_count": 21,
     "metadata": {},
     "output_type": "execute_result"
    }
   ],
   "source": [
    "#main.ipynb for PyRamen\n",
    "\n",
    "# -*- coding: UTF-8 -*-\n",
    "\"\"\"PyRamen Homework Starter.\"\"\""
   ]
  },
  {
   "cell_type": "code",
   "execution_count": 22,
   "id": "f742e104-5a98-4303-b3c0-5421fd58c7b5",
   "metadata": {},
   "outputs": [],
   "source": [
    "# @TODO: Import libraries\n",
    "import csv\n",
    "from pathlib import Path"
   ]
  },
  {
   "cell_type": "code",
   "execution_count": 23,
   "id": "90dfeb6a-fb71-47cc-9465-ecac934b213c",
   "metadata": {},
   "outputs": [],
   "source": [
    "# @TODO: Set file paths for menu_data.csv and sales_data.csv\n",
    "menu_filepath = Path('Resources/menu_data.csv')\n",
    "sales_filepath = Path('Resources/sales_data.csv')"
   ]
  },
  {
   "cell_type": "code",
   "execution_count": 24,
   "id": "5ecb4e75-5d04-4365-95de-12d111d8910f",
   "metadata": {},
   "outputs": [],
   "source": [
    "#defining debugging_togggle to debug\n",
    "debugging_togggle = False\n",
    "\n",
    "# define a function to read the csv file and return the list\n",
    "def func_opencsv_return_contents_as_list(filepath):\n",
    "    # initiate line counter variable\n",
    "    line_count = 0\n",
    "    # intiate Lists\n",
    "    list_individualrow = []\n",
    "    list_return = []\n",
    "    \n",
    "    with open(filepath) as csv_file:\n",
    "        csv_reader = csv.reader(csv_file, delimiter=',')    \n",
    "        for row in csv_reader:\n",
    "            #Print First Row as Header\n",
    "            if line_count == 0:\n",
    "                if (debugging_togggle):\n",
    "                    print(f'Column names are {\", \".join(row)}\\n\\n')\n",
    "                line_count += 1\n",
    "            #treat all remaining Rows as \"Data\"\n",
    "            else:\n",
    "                if (debugging_togggle):\n",
    "                    print(f'\\tColumn 1: {row[0]} \\t Column 2: {row[1]} \\t Column 3: {row[2]} \\t Column 4: {row[3]} \\t Column 5: {row[4]}')\n",
    "                #for x in range(0, len(row)):\n",
    "                    #list_individualrow.append(row[x])\n",
    "                list_return.append(row)\n",
    "                # reset list_budgetindividualrow list\n",
    "                line_count += 1\n",
    "    if (debugging_togggle):\n",
    "        print(list_return)\n",
    "    return list_return\n",
    "\n"
   ]
  },
  {
   "cell_type": "code",
   "execution_count": 25,
   "id": "cba8b3e0-69b6-4573-a139-c249a6582bce",
   "metadata": {},
   "outputs": [],
   "source": [
    "# @TODO: Initialize list objects to hold our menu and sales data\n",
    "menu = []\n",
    "sales = []"
   ]
  },
  {
   "cell_type": "code",
   "execution_count": 26,
   "id": "0347d78b-618b-48b2-be83-139319a54d2e",
   "metadata": {},
   "outputs": [],
   "source": [
    "# @TODO: Read in the menu data into the menu list\n",
    "\n",
    "menu = func_opencsv_return_contents_as_list(menu_filepath)\n"
   ]
  },
  {
   "cell_type": "code",
   "execution_count": 28,
   "id": "70774874-7542-4df0-ade9-8601abf6f79e",
   "metadata": {},
   "outputs": [],
   "source": [
    "# @TODO: Read in the sales data into the sales list\n",
    "\n",
    "sales = func_opencsv_return_contents_as_list(sales_filepath)"
   ]
  },
  {
   "cell_type": "code",
   "execution_count": 8,
   "id": "25c3cabd-35d2-42da-be0b-cb954434e51b",
   "metadata": {},
   "outputs": [],
   "source": [
    "# @TODO: Initialize dict object to hold our key-value pairs of items and metrics\n",
    "report = {}"
   ]
  },
  {
   "cell_type": "code",
   "execution_count": 9,
   "id": "475d620d-3ec4-4ff4-9193-08ab474221f3",
   "metadata": {},
   "outputs": [],
   "source": [
    "# Initialize a row counter variable\n",
    "row_count = 0"
   ]
  },
  {
   "cell_type": "code",
   "execution_count": 10,
   "id": "c888cb57-7d2f-4a8c-8974-edb07ca9f296",
   "metadata": {},
   "outputs": [],
   "source": [
    "\n",
    "# @TODO: Loop over every row in the sales list object\n",
    "\n",
    "\n",
    "\n",
    "\n",
    "    # Line_Item_ID,Date,Credit_Card_Number,Quantity,Menu_Item\n",
    "    # @TODO: Initialize sales data variables\n",
    "\n",
    "\n",
    "    # @TODO:\n",
    "    # If the item value not in the report, add it as a new entry with initialized metrics\n",
    "    # Naming convention allows the keys to be ordered in logical fashion, count, revenue, cost, profit\n",
    "\n",
    "\n"
   ]
  },
  {
   "cell_type": "code",
   "execution_count": null,
   "id": "ea5af1cb-970c-4dc4-b699-474295d50cf7",
   "metadata": {},
   "outputs": [],
   "source": [
    "  # @TODO: For every row in our sales data, loop over the menu records to determine a match\n",
    "\n",
    "\n",
    "        # Item,Category,Description,Price,Cost\n",
    "        # @TODO: Initialize menu data variables\n",
    "\n",
    "\n",
    "\n",
    "\n",
    "        # @TODO: Calculate profit of each item in the menu data\n",
    "\n",
    "\n",
    "        # @TODO: If the item value in our sales data is equal to the any of the items in the menu, then begin tracking metrics for that item\n",
    "\n",
    "\n",
    "            # @TODO: Print out matching menu data\n",
    "\n",
    "\n",
    "\n",
    "\n",
    "\n",
    "\n",
    "            # @TODO: Cumulatively add up the metrics for each item key\n",
    "\n",
    "\n",
    "\n",
    "\n",
    "\n",
    "        # @TODO: Else, the sales item does not equal any fo the item in the menu data, therefore no match\n",
    "\n",
    "\n",
    "\n",
    "    # @TODO: Increment the row counter by 1\n",
    "\n",
    "\n",
    "# @TODO: Print total number of records in sales data\n",
    "\n",
    "\n",
    "\n",
    "\n",
    "# @TODO: Write out report to a text file (won't appear on the command line output)\n",
    "\n"
   ]
  }
 ],
 "metadata": {
  "kernelspec": {
   "display_name": "Python 3 (ipykernel)",
   "language": "python",
   "name": "python3"
  },
  "language_info": {
   "codemirror_mode": {
    "name": "ipython",
    "version": 3
   },
   "file_extension": ".py",
   "mimetype": "text/x-python",
   "name": "python",
   "nbconvert_exporter": "python",
   "pygments_lexer": "ipython3",
   "version": "3.9.7"
  }
 },
 "nbformat": 4,
 "nbformat_minor": 5
}
